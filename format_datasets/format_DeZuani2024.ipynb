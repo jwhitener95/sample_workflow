{
 "cells": [
  {
   "attachments": {},
   "cell_type": "markdown",
   "metadata": {},
   "source": [
    "### Put the data sets into a common format"
   ]
  },
  {
   "cell_type": "code",
   "execution_count": 1,
   "metadata": {},
   "outputs": [
    {
     "name": "stderr",
     "output_type": "stream",
     "text": [
      "c:\\Users\\Owner\\anaconda3\\envs\\curate\\lib\\site-packages\\cupy\\_environment.py:216: UserWarning: CUDA path could not be detected. Set CUDA_PATH environment variable if CuPy fails to load.\n",
      "  warnings.warn(\n",
      "c:\\Users\\Owner\\anaconda3\\envs\\curate\\lib\\site-packages\\cupy\\_environment.py:216: UserWarning: CUDA path could not be detected. Set CUDA_PATH environment variable if CuPy fails to load.\n",
      "  warnings.warn(\n"
     ]
    }
   ],
   "source": [
    "import os\n",
    "import pandas as pd\n",
    "import random\n",
    "import scipy\n",
    "import scanpy as sc"
   ]
  },
  {
   "cell_type": "code",
   "execution_count": 2,
   "metadata": {},
   "outputs": [],
   "source": [
    "# Specify dataset id\n",
    "ds_id = 'DeZuani2024'\n",
    "\n",
    "# Specify base file path\n",
    "base = f'D:/GitHub/Data/NSCLC/{ds_id}/Data/'\n",
    "base1 = f'D:/GitHub/Data/NSCLC/{ds_id}/'\n",
    "\n",
    "# Specify path to raw data\n",
    "samples = ['P10_B1', 'P17_B2', 'P18_B2'] # These are 3 random baseline samples (due to memory issues)\n",
    "mtxs = [base+sample+'/matrix.mtx' for sample in samples]\n",
    "barcodes = [base+sample+f'/{sample}-barcodes.tsv.gz' for sample in samples]\n",
    "features = [base+sample+'/features.tsv' for sample in samples]\n",
    "\n",
    "# Specify path to save AnnData\n",
    "save_as = f'{base1}{ds_id}_anndata.h5ad'"
   ]
  },
  {
   "cell_type": "code",
   "execution_count": 3,
   "metadata": {},
   "outputs": [],
   "source": [
    "# Define functions to format each piece of data\n",
    "def load_mtxs(files):\n",
    "    matrices = []\n",
    "    for file in files:\n",
    "        matrix = scipy.io.mmread(file).tocsr()\n",
    "        matrices.append(matrix)\n",
    "    return scipy.sparse.hstack(matrices, format='coo')\n",
    "def load_features(files):\n",
    "    ftrs = pd.read_csv(files[0], sep='\\t', header=None).drop(2, axis=1)\n",
    "    for file in files[1:]:\n",
    "        ftrs2 = pd.read_csv(file, sep='\\t', header=None).drop(2, axis=1)\n",
    "        if not ftrs2.equals(ftrs):\n",
    "            print('Need to reformat')\n",
    "    ftrs.index = ftrs.iloc[:, 1].values\n",
    "    ftrs.columns = ['ENSG_id', 'gene_name']\n",
    "    return ftrs\n",
    "def load_barcodes(files):\n",
    "    bar = []\n",
    "    for file in files:\n",
    "        bar_df = pd.read_csv(file, sep='\\t', header=None)\n",
    "        bar_df.columns = ['barcode']\n",
    "        bar_df['sample'] = [file.split('/')[-1].split('-')[0]]*len(bar_df) # based on file naming convention\n",
    "        bar += [bar_df]\n",
    "    bar_df = pd.concat(bar)\n",
    "    bar_df.index = bar_df.iloc[:, 0].values\n",
    "    return bar_df"
   ]
  },
  {
   "cell_type": "code",
   "execution_count": 4,
   "metadata": {},
   "outputs": [],
   "source": [
    "# Run formatting functions\n",
    "mtx_processed = load_mtxs(mtxs)\n",
    "features_processed = load_features(features)\n",
    "barcodes_processed = load_barcodes(barcodes)"
   ]
  },
  {
   "cell_type": "code",
   "execution_count": 5,
   "metadata": {},
   "outputs": [],
   "source": [
    "# Add metadata\n",
    "meta = barcodes_processed"
   ]
  },
  {
   "cell_type": "code",
   "execution_count": 6,
   "metadata": {},
   "outputs": [
    {
     "name": "stderr",
     "output_type": "stream",
     "text": [
      "c:\\Users\\Owner\\anaconda3\\envs\\curate\\lib\\site-packages\\anndata\\_core\\anndata.py:1754: UserWarning: Observation names are not unique. To make them unique, call `.obs_names_make_unique`.\n",
      "  utils.warn_names_duplicates(\"obs\")\n",
      "c:\\Users\\Owner\\anaconda3\\envs\\curate\\lib\\site-packages\\anndata\\_core\\anndata.py:1756: UserWarning: Variable names are not unique. To make them unique, call `.var_names_make_unique`.\n",
      "  utils.warn_names_duplicates(\"var\")\n"
     ]
    }
   ],
   "source": [
    "# Create AnnData object\n",
    "adata = sc.AnnData(X=mtx_processed.T.tocsr(), obs=meta, var=features_processed)\n",
    "adata.var_names_make_unique()\n",
    "adata.obs_names_make_unique()\n",
    "adata.obs = adata.obs.astype('category')"
   ]
  },
  {
   "cell_type": "code",
   "execution_count": 7,
   "metadata": {},
   "outputs": [
    {
     "data": {
      "text/plain": [
       "AnnData object with n_obs × n_vars = 20384640 × 33538\n",
       "    obs: 'barcode', 'sample'\n",
       "    var: 'ENSG_id', 'gene_name'"
      ]
     },
     "execution_count": 7,
     "metadata": {},
     "output_type": "execute_result"
    }
   ],
   "source": [
    "# Save AnnData object\n",
    "adata.write(save_as)\n",
    "adata"
   ]
  },
  {
   "cell_type": "code",
   "execution_count": null,
   "metadata": {},
   "outputs": [],
   "source": []
  }
 ],
 "metadata": {
  "kernelspec": {
   "display_name": "curate",
   "language": "python",
   "name": "python3"
  },
  "language_info": {
   "codemirror_mode": {
    "name": "ipython",
    "version": 3
   },
   "file_extension": ".py",
   "mimetype": "text/x-python",
   "name": "python",
   "nbconvert_exporter": "python",
   "pygments_lexer": "ipython3",
   "version": "3.9.19"
  },
  "orig_nbformat": 4
 },
 "nbformat": 4,
 "nbformat_minor": 2
}
