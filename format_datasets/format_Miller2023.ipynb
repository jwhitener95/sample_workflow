{
 "cells": [
  {
   "attachments": {},
   "cell_type": "markdown",
   "metadata": {},
   "source": [
    "### Put the data sets into a common format"
   ]
  },
  {
   "cell_type": "code",
   "execution_count": 136,
   "metadata": {},
   "outputs": [],
   "source": [
    "import os\n",
    "import pandas as pd\n",
    "import random\n",
    "import scipy\n",
    "import scanpy as sc"
   ]
  },
  {
   "cell_type": "code",
   "execution_count": 134,
   "metadata": {},
   "outputs": [],
   "source": [
    "# Specify dataset id\n",
    "ds_id = 'Miller2023'\n",
    "\n",
    "# Specify base file path\n",
    "base = f'D:/GitHub/Data/NSCLC/{ds_id}/'\n",
    "\n",
    "# Specify path to raw data\n",
    "ds_path = f'{base}Data/'\n",
    "\n",
    "# Specify path to save AnnData\n",
    "save_as = f'{base}{ds_id}_anndata.h5ad'\n",
    "\n",
    "# Extract path to all raw data files\n",
    "# ds2_path contains multiple files (list here)\n",
    "mtxs, features, barcodes = [], [], []\n",
    "for file in os.listdir(ds_path):\n",
    "    if file.endswith('.mtx'):\n",
    "        mtxs += [ds_path + file + '/matrix.mtx']\n",
    "    if file.endswith('features.tsv'):\n",
    "        features += [ds_path + file + '/features.tsv']\n",
    "    if file.endswith('barcodes.tsv.gz'):\n",
    "        barcodes += [ds_path + file]  \n",
    "\n",
    "# Due to memory constraints, I'm going to select 5 random samples with which to work\n",
    "# The result should remain helpful to demonstrate the workflow\n",
    "samples = ['_'.join(i.split('/')[-2].split('_')[:-1]) for i in mtxs] # sample names determined from naming convention\n",
    "rand_ind = random.sample(range(0, len(mtxs)), 5)\n",
    "samples_to_use = [samples[i] for i in rand_ind]\n",
    "def select_values_containing_samples_to_use(lst, substring):\n",
    "    selected_values = []\n",
    "    for i in range(0, len(substring)):\n",
    "        selected_values += [value for value in lst if substring[i] in value]\n",
    "    return selected_values\n",
    "mtxs = select_values_containing_samples_to_use(mtxs, samples_to_use)\n",
    "features = select_values_containing_samples_to_use(features, samples_to_use)\n",
    "barcodes = select_values_containing_samples_to_use(barcodes, samples_to_use)"
   ]
  },
  {
   "cell_type": "code",
   "execution_count": 128,
   "metadata": {},
   "outputs": [],
   "source": [
    "# Define functions to format each piece of data\n",
    "def load_mtxs(files):\n",
    "    matrices = []\n",
    "    for file in files:\n",
    "        matrix = scipy.io.mmread(file).tocsr()\n",
    "        matrices.append(matrix)\n",
    "    return scipy.sparse.hstack(matrices, format='coo')\n",
    "def load_features(files):\n",
    "    ftrs = pd.read_csv(files[0], sep='\\t', header=None).drop(2, axis=1)\n",
    "    for file in files[1:]:\n",
    "        ftrs2 = pd.read_csv(file, sep='\\t', header=None).drop(2, axis=1)\n",
    "        if not ftrs2.equals(ftrs):\n",
    "            print('Need to reformat')\n",
    "    ftrs.index = ftrs.iloc[:, 1].values\n",
    "    ftrs.columns = ['ENSG_id', 'gene_name']\n",
    "    return ftrs\n",
    "def load_barcodes(files):\n",
    "    bar = []\n",
    "    for file in files:\n",
    "        bar_df = pd.read_csv(file, sep='\\t', header=None)\n",
    "        bar_df.columns = ['barcode']\n",
    "        bar_df['sample'] = ['_'.join(file.split('/')[-1].split('_')[1:-1])]*len(bar_df) # based on file naming convention\n",
    "        bar += [bar_df]\n",
    "    bar_df = pd.concat(bar)\n",
    "    bar_df.index = bar_df.iloc[:, 0].values\n",
    "    return bar_df"
   ]
  },
  {
   "cell_type": "code",
   "execution_count": 129,
   "metadata": {},
   "outputs": [],
   "source": [
    "# Run formatting functions\n",
    "mtx_processed = load_mtxs(mtxs)\n",
    "features_processed = load_features(features)\n",
    "barcodes_processed = load_barcodes(barcodes)"
   ]
  },
  {
   "cell_type": "code",
   "execution_count": 131,
   "metadata": {},
   "outputs": [],
   "source": [
    "# Add metadata\n",
    "meta = barcodes_processed"
   ]
  },
  {
   "cell_type": "code",
   "execution_count": 132,
   "metadata": {},
   "outputs": [
    {
     "name": "stderr",
     "output_type": "stream",
     "text": [
      "c:\\Users\\Owner\\anaconda3\\envs\\curate\\lib\\site-packages\\anndata\\_core\\anndata.py:1754: UserWarning: Observation names are not unique. To make them unique, call `.obs_names_make_unique`.\n",
      "  utils.warn_names_duplicates(\"obs\")\n",
      "c:\\Users\\Owner\\anaconda3\\envs\\curate\\lib\\site-packages\\anndata\\_core\\anndata.py:1756: UserWarning: Variable names are not unique. To make them unique, call `.var_names_make_unique`.\n",
      "  utils.warn_names_duplicates(\"var\")\n"
     ]
    }
   ],
   "source": [
    "# Create AnnData object\n",
    "adata = sc.AnnData(X=mtx_processed.T.tocsr(), obs=meta, var=features_processed)\n",
    "adata.var_names_make_unique()\n",
    "adata.obs_names_make_unique()\n",
    "adata.obs = adata.obs.astype('category')"
   ]
  },
  {
   "cell_type": "code",
   "execution_count": 135,
   "metadata": {},
   "outputs": [
    {
     "data": {
      "text/plain": [
       "AnnData object with n_obs × n_vars = 28909 × 33538\n",
       "    obs: 'barcode', 'sample'\n",
       "    var: 'ENSG_id', 'gene_name'"
      ]
     },
     "execution_count": 135,
     "metadata": {},
     "output_type": "execute_result"
    }
   ],
   "source": [
    "# Save AnnData object\n",
    "adata.write(save_as)\n",
    "adata"
   ]
  },
  {
   "cell_type": "code",
   "execution_count": null,
   "metadata": {},
   "outputs": [],
   "source": []
  }
 ],
 "metadata": {
  "kernelspec": {
   "display_name": "base",
   "language": "python",
   "name": "python3"
  },
  "language_info": {
   "codemirror_mode": {
    "name": "ipython",
    "version": 3
   },
   "file_extension": ".py",
   "mimetype": "text/x-python",
   "name": "python",
   "nbconvert_exporter": "python",
   "pygments_lexer": "ipython3",
   "version": "3.9.19"
  },
  "orig_nbformat": 4,
  "vscode": {
   "interpreter": {
    "hash": "585a938ec471c889bf0cce0aed741a99eaf47ca09c0fa8393793bc5bfe77ba11"
   }
  }
 },
 "nbformat": 4,
 "nbformat_minor": 2
}
