{
 "cells": [
  {
   "attachments": {},
   "cell_type": "markdown",
   "metadata": {},
   "source": [
    "### Put the data sets into a common format"
   ]
  },
  {
   "cell_type": "code",
   "execution_count": 7,
   "metadata": {},
   "outputs": [],
   "source": [
    "import os\n",
    "import pandas as pd"
   ]
  },
  {
   "cell_type": "code",
   "execution_count": 4,
   "metadata": {},
   "outputs": [],
   "source": [
    "# Specify file path and read in data\n",
    "base = 'D:/GitHub/Data/NSCLC/'\n",
    "ds_path = f'{base}Miller2023/Data/'\n",
    "\n",
    "# ds2_path contains multiple files (list here)\n",
    "mtxs, features, barcodes = [], [], []\n",
    "for file in os.listdir(ds_path):\n",
    "    if file.endswith('.mtx'):\n",
    "        mtxs += [ds_path + file + '/matrix.mtx']\n",
    "    if file.endswith('features.tsv'):\n",
    "        features += [ds_path + file + '/features.tsv']\n",
    "    if file.endswith('barcodes.tsv.gz'):\n",
    "        barcodes += [ds_path + file]  "
   ]
  },
  {
   "cell_type": "code",
   "execution_count": null,
   "metadata": {},
   "outputs": [],
   "source": []
  }
 ],
 "metadata": {
  "kernelspec": {
   "display_name": "base",
   "language": "python",
   "name": "python3"
  },
  "language_info": {
   "codemirror_mode": {
    "name": "ipython",
    "version": 3
   },
   "file_extension": ".py",
   "mimetype": "text/x-python",
   "name": "python",
   "nbconvert_exporter": "python",
   "pygments_lexer": "ipython3",
   "version": "3.9.13"
  },
  "orig_nbformat": 4,
  "vscode": {
   "interpreter": {
    "hash": "585a938ec471c889bf0cce0aed741a99eaf47ca09c0fa8393793bc5bfe77ba11"
   }
  }
 },
 "nbformat": 4,
 "nbformat_minor": 2
}
