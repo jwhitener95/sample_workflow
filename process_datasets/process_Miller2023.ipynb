{
 "cells": [
  {
   "cell_type": "markdown",
   "metadata": {},
   "source": [
    "## Preprocess and cluster dataset\n",
    "\n",
    "Reference: https://scanpy.readthedocs.io/en/stable/tutorials/basics/clustering.html"
   ]
  },
  {
   "cell_type": "code",
   "execution_count": 10,
   "metadata": {},
   "outputs": [],
   "source": [
    "%load_ext autoreload\n",
    "%autoreload 2"
   ]
  },
  {
   "cell_type": "code",
   "execution_count": 7,
   "metadata": {},
   "outputs": [],
   "source": [
    "import scanpy as sc\n",
    "import sys\n",
    "sys.path.insert(0, 'D:/GitHub/sample_workflow/')\n",
    "from HelperFunctions import qc_and_filter"
   ]
  },
  {
   "cell_type": "code",
   "execution_count": 18,
   "metadata": {},
   "outputs": [],
   "source": [
    "# Specify dataset id\n",
    "ds_id = 'Miller2023'\n",
    "\n",
    "# Specify base file path\n",
    "base = f'D:/GitHub/Data/NSCLC/{ds_id}/'\n",
    "\n",
    "# Specify path to AnnData\n",
    "adata_path = f'{base}{ds_id}_anndata.h5ad'\n",
    "\n",
    "# Read AnnData\n",
    "adata = sc.read_h5ad(adata_path)"
   ]
  },
  {
   "cell_type": "code",
   "execution_count": 19,
   "metadata": {},
   "outputs": [
    {
     "data": {
      "text/plain": [
       "AnnData object with n_obs × n_vars = 28909 × 33538\n",
       "    obs: 'barcode', 'sample'\n",
       "    var: 'ENSG_id', 'gene_name'"
      ]
     },
     "execution_count": 19,
     "metadata": {},
     "output_type": "execute_result"
    }
   ],
   "source": [
    "adata"
   ]
  },
  {
   "cell_type": "code",
   "execution_count": 20,
   "metadata": {},
   "outputs": [
    {
     "name": "stdout",
     "output_type": "stream",
     "text": [
      "Error with \"percent.mt\"\n",
      "Preprocessing...\n"
     ]
    },
    {
     "ename": "MemoryError",
     "evalue": "Unable to allocate 256. MiB for an array with shape (67037558,) and data type int32",
     "output_type": "error",
     "traceback": [
      "\u001b[1;31m---------------------------------------------------------------------------\u001b[0m",
      "\u001b[1;31mMemoryError\u001b[0m                               Traceback (most recent call last)",
      "Cell \u001b[1;32mIn[20], line 2\u001b[0m\n\u001b[0;32m      1\u001b[0m \u001b[38;5;66;03m# Filter the data and perform some quality control checks\u001b[39;00m\n\u001b[1;32m----> 2\u001b[0m adata \u001b[38;5;241m=\u001b[39m \u001b[43mqc_and_filter\u001b[49m\u001b[43m(\u001b[49m\u001b[43madata\u001b[49m\u001b[43m)\u001b[49m\n",
      "File \u001b[1;32mD:\\GitHub/sample_workflow\\HelperFunctions.py:48\u001b[0m, in \u001b[0;36mqc_and_filter\u001b[1;34m(adata, doublet_threshold, gene_threshold, cell_threshold)\u001b[0m\n\u001b[0;32m     46\u001b[0m \u001b[38;5;66;03m# Scrublet\u001b[39;00m\n\u001b[0;32m     47\u001b[0m scrub \u001b[38;5;241m=\u001b[39m scr\u001b[38;5;241m.\u001b[39mScrublet(adata\u001b[38;5;241m.\u001b[39mX)\n\u001b[1;32m---> 48\u001b[0m doublet_scores \u001b[38;5;241m=\u001b[39m \u001b[43mscrub\u001b[49m\u001b[38;5;241;43m.\u001b[39;49m\u001b[43mscrub_doublets\u001b[49m\u001b[43m(\u001b[49m\u001b[43m)\u001b[49m[\u001b[38;5;241m0\u001b[39m]\n\u001b[0;32m     49\u001b[0m adata\u001b[38;5;241m.\u001b[39mobs[\u001b[38;5;124m'\u001b[39m\u001b[38;5;124mDoubletScores\u001b[39m\u001b[38;5;124m'\u001b[39m] \u001b[38;5;241m=\u001b[39m \u001b[38;5;28mlist\u001b[39m(doublet_scores)\n\u001b[0;32m     50\u001b[0m total_cells \u001b[38;5;241m=\u001b[39m \u001b[38;5;28mlen\u001b[39m(adata\u001b[38;5;241m.\u001b[39mobs\u001b[38;5;241m.\u001b[39mindex)\n",
      "File \u001b[1;32mc:\\Users\\Owner\\anaconda3\\envs\\curate\\lib\\site-packages\\scrublet\\scrublet.py:220\u001b[0m, in \u001b[0;36mScrublet.scrub_doublets\u001b[1;34m(self, synthetic_doublet_umi_subsampling, use_approx_neighbors, distance_metric, get_doublet_neighbor_parents, min_counts, min_cells, min_gene_variability_pctl, log_transform, mean_center, normalize_variance, n_prin_comps, svd_solver, verbose)\u001b[0m\n\u001b[0;32m    218\u001b[0m print_optional(\u001b[38;5;124m'\u001b[39m\u001b[38;5;124mPreprocessing...\u001b[39m\u001b[38;5;124m'\u001b[39m, verbose)\n\u001b[0;32m    219\u001b[0m pipeline_normalize(\u001b[38;5;28mself\u001b[39m)\n\u001b[1;32m--> 220\u001b[0m \u001b[43mpipeline_get_gene_filter\u001b[49m\u001b[43m(\u001b[49m\u001b[38;5;28;43mself\u001b[39;49m\u001b[43m,\u001b[49m\u001b[43m \u001b[49m\u001b[43mmin_counts\u001b[49m\u001b[38;5;241;43m=\u001b[39;49m\u001b[43mmin_counts\u001b[49m\u001b[43m,\u001b[49m\u001b[43m \u001b[49m\u001b[43mmin_cells\u001b[49m\u001b[38;5;241;43m=\u001b[39;49m\u001b[43mmin_cells\u001b[49m\u001b[43m,\u001b[49m\u001b[43m \u001b[49m\u001b[43mmin_gene_variability_pctl\u001b[49m\u001b[38;5;241;43m=\u001b[39;49m\u001b[43mmin_gene_variability_pctl\u001b[49m\u001b[43m)\u001b[49m\n\u001b[0;32m    221\u001b[0m pipeline_apply_gene_filter(\u001b[38;5;28mself\u001b[39m)\n\u001b[0;32m    223\u001b[0m print_optional(\u001b[38;5;124m'\u001b[39m\u001b[38;5;124mSimulating doublets...\u001b[39m\u001b[38;5;124m'\u001b[39m, verbose)\n",
      "File \u001b[1;32mc:\\Users\\Owner\\anaconda3\\envs\\curate\\lib\\site-packages\\scrublet\\helper_functions.py:29\u001b[0m, in \u001b[0;36mpipeline_get_gene_filter\u001b[1;34m(self, min_counts, min_cells, min_gene_variability_pctl)\u001b[0m\n\u001b[0;32m     27\u001b[0m \u001b[38;5;28;01mdef\u001b[39;00m \u001b[38;5;21mpipeline_get_gene_filter\u001b[39m(\u001b[38;5;28mself\u001b[39m, min_counts\u001b[38;5;241m=\u001b[39m\u001b[38;5;241m3\u001b[39m, min_cells\u001b[38;5;241m=\u001b[39m\u001b[38;5;241m3\u001b[39m, min_gene_variability_pctl\u001b[38;5;241m=\u001b[39m\u001b[38;5;241m85\u001b[39m):\n\u001b[0;32m     28\u001b[0m \u001b[38;5;250m    \u001b[39m\u001b[38;5;124;03m''' Identify highly variable genes expressed above a minimum level '''\u001b[39;00m\n\u001b[1;32m---> 29\u001b[0m     \u001b[38;5;28mself\u001b[39m\u001b[38;5;241m.\u001b[39m_gene_filter \u001b[38;5;241m=\u001b[39m \u001b[43mfilter_genes\u001b[49m\u001b[43m(\u001b[49m\u001b[38;5;28;43mself\u001b[39;49m\u001b[38;5;241;43m.\u001b[39;49m\u001b[43m_E_obs_norm\u001b[49m\u001b[43m,\u001b[49m\n\u001b[0;32m     30\u001b[0m \u001b[43m                                        \u001b[49m\u001b[43mmin_counts\u001b[49m\u001b[38;5;241;43m=\u001b[39;49m\u001b[43mmin_counts\u001b[49m\u001b[43m,\u001b[49m\n\u001b[0;32m     31\u001b[0m \u001b[43m                                        \u001b[49m\u001b[43mmin_cells\u001b[49m\u001b[38;5;241;43m=\u001b[39;49m\u001b[43mmin_cells\u001b[49m\u001b[43m,\u001b[49m\n\u001b[0;32m     32\u001b[0m \u001b[43m                                        \u001b[49m\u001b[43mmin_vscore_pctl\u001b[49m\u001b[38;5;241;43m=\u001b[39;49m\u001b[43mmin_gene_variability_pctl\u001b[49m\u001b[43m)\u001b[49m\n\u001b[0;32m     33\u001b[0m     \u001b[38;5;28;01mreturn\u001b[39;00m\n",
      "File \u001b[1;32mc:\\Users\\Owner\\anaconda3\\envs\\curate\\lib\\site-packages\\scrublet\\helper_functions.py:265\u001b[0m, in \u001b[0;36mfilter_genes\u001b[1;34m(E, base_ix, min_vscore_pctl, min_counts, min_cells, show_vscore_plot, sample_name)\u001b[0m\n\u001b[0;32m    262\u001b[0m \u001b[38;5;28;01mif\u001b[39;00m \u001b[38;5;28mlen\u001b[39m(base_ix) \u001b[38;5;241m==\u001b[39m \u001b[38;5;241m0\u001b[39m:\n\u001b[0;32m    263\u001b[0m     base_ix \u001b[38;5;241m=\u001b[39m np\u001b[38;5;241m.\u001b[39marange(E\u001b[38;5;241m.\u001b[39mshape[\u001b[38;5;241m0\u001b[39m])\n\u001b[1;32m--> 265\u001b[0m Vscores, CV_eff, CV_input, gene_ix, mu_gene, FF_gene, a, b \u001b[38;5;241m=\u001b[39m \u001b[43mget_vscores\u001b[49m\u001b[43m(\u001b[49m\u001b[43mE\u001b[49m\u001b[43m[\u001b[49m\u001b[43mbase_ix\u001b[49m\u001b[43m,\u001b[49m\u001b[43m \u001b[49m\u001b[43m:\u001b[49m\u001b[43m]\u001b[49m\u001b[43m)\u001b[49m\n\u001b[0;32m    266\u001b[0m ix2 \u001b[38;5;241m=\u001b[39m Vscores\u001b[38;5;241m>\u001b[39m\u001b[38;5;241m0\u001b[39m\n\u001b[0;32m    267\u001b[0m Vscores \u001b[38;5;241m=\u001b[39m Vscores[ix2]\n",
      "File \u001b[1;32mc:\\Users\\Owner\\anaconda3\\envs\\curate\\lib\\site-packages\\scrublet\\helper_functions.py:222\u001b[0m, in \u001b[0;36mget_vscores\u001b[1;34m(E, min_mean, nBins, fit_percentile, error_wt)\u001b[0m\n\u001b[0;32m    215\u001b[0m \u001b[38;5;250m\u001b[39m\u001b[38;5;124;03m'''\u001b[39;00m\n\u001b[0;32m    216\u001b[0m \u001b[38;5;124;03mCalculate v-score (above-Poisson noise statistic) for genes in the input counts matrix\u001b[39;00m\n\u001b[0;32m    217\u001b[0m \u001b[38;5;124;03mReturn v-scores and other stats\u001b[39;00m\n\u001b[0;32m    218\u001b[0m \u001b[38;5;124;03m'''\u001b[39;00m\n\u001b[0;32m    220\u001b[0m ncell \u001b[38;5;241m=\u001b[39m E\u001b[38;5;241m.\u001b[39mshape[\u001b[38;5;241m0\u001b[39m]\n\u001b[1;32m--> 222\u001b[0m mu_gene \u001b[38;5;241m=\u001b[39m \u001b[43mE\u001b[49m\u001b[38;5;241;43m.\u001b[39;49m\u001b[43mmean\u001b[49m\u001b[43m(\u001b[49m\u001b[43maxis\u001b[49m\u001b[38;5;241;43m=\u001b[39;49m\u001b[38;5;241;43m0\u001b[39;49m\u001b[43m)\u001b[49m\u001b[38;5;241m.\u001b[39mA\u001b[38;5;241m.\u001b[39msqueeze()\n\u001b[0;32m    223\u001b[0m gene_ix \u001b[38;5;241m=\u001b[39m np\u001b[38;5;241m.\u001b[39mnonzero(mu_gene \u001b[38;5;241m>\u001b[39m min_mean)[\u001b[38;5;241m0\u001b[39m]\n\u001b[0;32m    224\u001b[0m mu_gene \u001b[38;5;241m=\u001b[39m mu_gene[gene_ix]\n",
      "File \u001b[1;32mc:\\Users\\Owner\\anaconda3\\envs\\curate\\lib\\site-packages\\scipy\\sparse\\_base.py:1191\u001b[0m, in \u001b[0;36mspmatrix.mean\u001b[1;34m(self, axis, dtype, out)\u001b[0m\n\u001b[0;32m   1189\u001b[0m \u001b[38;5;66;03m# axis = 0 or 1 now\u001b[39;00m\n\u001b[0;32m   1190\u001b[0m \u001b[38;5;28;01mif\u001b[39;00m axis \u001b[38;5;241m==\u001b[39m \u001b[38;5;241m0\u001b[39m:\n\u001b[1;32m-> 1191\u001b[0m     \u001b[38;5;28;01mreturn\u001b[39;00m (\u001b[43minter_self\u001b[49m\u001b[43m \u001b[49m\u001b[38;5;241;43m*\u001b[39;49m\u001b[43m \u001b[49m\u001b[43m(\u001b[49m\u001b[38;5;241;43m1.0\u001b[39;49m\u001b[43m \u001b[49m\u001b[38;5;241;43m/\u001b[39;49m\u001b[43m \u001b[49m\u001b[38;5;28;43mself\u001b[39;49m\u001b[38;5;241;43m.\u001b[39;49m\u001b[43mshape\u001b[49m\u001b[43m[\u001b[49m\u001b[38;5;241;43m0\u001b[39;49m\u001b[43m]\u001b[49m\u001b[43m)\u001b[49m)\u001b[38;5;241m.\u001b[39msum(\n\u001b[0;32m   1192\u001b[0m         axis\u001b[38;5;241m=\u001b[39m\u001b[38;5;241m0\u001b[39m, dtype\u001b[38;5;241m=\u001b[39mres_dtype, out\u001b[38;5;241m=\u001b[39mout)\n\u001b[0;32m   1193\u001b[0m \u001b[38;5;28;01melse\u001b[39;00m:\n\u001b[0;32m   1194\u001b[0m     \u001b[38;5;28;01mreturn\u001b[39;00m (inter_self \u001b[38;5;241m*\u001b[39m (\u001b[38;5;241m1.0\u001b[39m \u001b[38;5;241m/\u001b[39m \u001b[38;5;28mself\u001b[39m\u001b[38;5;241m.\u001b[39mshape[\u001b[38;5;241m1\u001b[39m]))\u001b[38;5;241m.\u001b[39msum(\n\u001b[0;32m   1195\u001b[0m         axis\u001b[38;5;241m=\u001b[39m\u001b[38;5;241m1\u001b[39m, dtype\u001b[38;5;241m=\u001b[39mres_dtype, out\u001b[38;5;241m=\u001b[39mout)\n",
      "File \u001b[1;32mc:\\Users\\Owner\\anaconda3\\envs\\curate\\lib\\site-packages\\scipy\\sparse\\_base.py:590\u001b[0m, in \u001b[0;36mspmatrix.__mul__\u001b[1;34m(self, other)\u001b[0m\n\u001b[0;32m    589\u001b[0m \u001b[38;5;28;01mdef\u001b[39;00m \u001b[38;5;21m__mul__\u001b[39m(\u001b[38;5;28mself\u001b[39m, other):\n\u001b[1;32m--> 590\u001b[0m     \u001b[38;5;28;01mreturn\u001b[39;00m \u001b[38;5;28;43mself\u001b[39;49m\u001b[38;5;241;43m.\u001b[39;49m\u001b[43m_mul_dispatch\u001b[49m\u001b[43m(\u001b[49m\u001b[43mother\u001b[49m\u001b[43m)\u001b[49m\n",
      "File \u001b[1;32mc:\\Users\\Owner\\anaconda3\\envs\\curate\\lib\\site-packages\\scipy\\sparse\\_base.py:536\u001b[0m, in \u001b[0;36mspmatrix._mul_dispatch\u001b[1;34m(self, other)\u001b[0m\n\u001b[0;32m    532\u001b[0m         \u001b[38;5;28;01mreturn\u001b[39;00m \u001b[38;5;28mself\u001b[39m\u001b[38;5;241m.\u001b[39m_mul_multivector(other)\n\u001b[0;32m    534\u001b[0m \u001b[38;5;28;01mif\u001b[39;00m isscalarlike(other):\n\u001b[0;32m    535\u001b[0m     \u001b[38;5;66;03m# scalar value\u001b[39;00m\n\u001b[1;32m--> 536\u001b[0m     \u001b[38;5;28;01mreturn\u001b[39;00m \u001b[38;5;28;43mself\u001b[39;49m\u001b[38;5;241;43m.\u001b[39;49m\u001b[43m_mul_scalar\u001b[49m\u001b[43m(\u001b[49m\u001b[43mother\u001b[49m\u001b[43m)\u001b[49m\n\u001b[0;32m    538\u001b[0m \u001b[38;5;28;01mif\u001b[39;00m issparse(other):\n\u001b[0;32m    539\u001b[0m     \u001b[38;5;28;01mif\u001b[39;00m \u001b[38;5;28mself\u001b[39m\u001b[38;5;241m.\u001b[39mshape[\u001b[38;5;241m1\u001b[39m] \u001b[38;5;241m!=\u001b[39m other\u001b[38;5;241m.\u001b[39mshape[\u001b[38;5;241m0\u001b[39m]:\n",
      "File \u001b[1;32mc:\\Users\\Owner\\anaconda3\\envs\\curate\\lib\\site-packages\\scipy\\sparse\\_data.py:124\u001b[0m, in \u001b[0;36m_data_matrix._mul_scalar\u001b[1;34m(self, other)\u001b[0m\n\u001b[0;32m    123\u001b[0m \u001b[38;5;28;01mdef\u001b[39;00m \u001b[38;5;21m_mul_scalar\u001b[39m(\u001b[38;5;28mself\u001b[39m, other):\n\u001b[1;32m--> 124\u001b[0m     \u001b[38;5;28;01mreturn\u001b[39;00m \u001b[38;5;28;43mself\u001b[39;49m\u001b[38;5;241;43m.\u001b[39;49m\u001b[43m_with_data\u001b[49m\u001b[43m(\u001b[49m\u001b[38;5;28;43mself\u001b[39;49m\u001b[38;5;241;43m.\u001b[39;49m\u001b[43mdata\u001b[49m\u001b[43m \u001b[49m\u001b[38;5;241;43m*\u001b[39;49m\u001b[43m \u001b[49m\u001b[43mother\u001b[49m\u001b[43m)\u001b[49m\n",
      "File \u001b[1;32mc:\\Users\\Owner\\anaconda3\\envs\\curate\\lib\\site-packages\\scipy\\sparse\\_compressed.py:1230\u001b[0m, in \u001b[0;36m_cs_matrix._with_data\u001b[1;34m(self, data, copy)\u001b[0m\n\u001b[0;32m   1225\u001b[0m \u001b[38;5;250m\u001b[39m\u001b[38;5;124;03m\"\"\"Returns a matrix with the same sparsity structure as self,\u001b[39;00m\n\u001b[0;32m   1226\u001b[0m \u001b[38;5;124;03mbut with different data.  By default the structure arrays\u001b[39;00m\n\u001b[0;32m   1227\u001b[0m \u001b[38;5;124;03m(i.e. .indptr and .indices) are copied.\u001b[39;00m\n\u001b[0;32m   1228\u001b[0m \u001b[38;5;124;03m\"\"\"\u001b[39;00m\n\u001b[0;32m   1229\u001b[0m \u001b[38;5;28;01mif\u001b[39;00m copy:\n\u001b[1;32m-> 1230\u001b[0m     \u001b[38;5;28;01mreturn\u001b[39;00m \u001b[38;5;28mself\u001b[39m\u001b[38;5;241m.\u001b[39m\u001b[38;5;18m__class__\u001b[39m((data, \u001b[38;5;28;43mself\u001b[39;49m\u001b[38;5;241;43m.\u001b[39;49m\u001b[43mindices\u001b[49m\u001b[38;5;241;43m.\u001b[39;49m\u001b[43mcopy\u001b[49m\u001b[43m(\u001b[49m\u001b[43m)\u001b[49m,\n\u001b[0;32m   1231\u001b[0m                            \u001b[38;5;28mself\u001b[39m\u001b[38;5;241m.\u001b[39mindptr\u001b[38;5;241m.\u001b[39mcopy()),\n\u001b[0;32m   1232\u001b[0m                           shape\u001b[38;5;241m=\u001b[39m\u001b[38;5;28mself\u001b[39m\u001b[38;5;241m.\u001b[39mshape,\n\u001b[0;32m   1233\u001b[0m                           dtype\u001b[38;5;241m=\u001b[39mdata\u001b[38;5;241m.\u001b[39mdtype)\n\u001b[0;32m   1234\u001b[0m \u001b[38;5;28;01melse\u001b[39;00m:\n\u001b[0;32m   1235\u001b[0m     \u001b[38;5;28;01mreturn\u001b[39;00m \u001b[38;5;28mself\u001b[39m\u001b[38;5;241m.\u001b[39m\u001b[38;5;18m__class__\u001b[39m((data, \u001b[38;5;28mself\u001b[39m\u001b[38;5;241m.\u001b[39mindices, \u001b[38;5;28mself\u001b[39m\u001b[38;5;241m.\u001b[39mindptr),\n\u001b[0;32m   1236\u001b[0m                           shape\u001b[38;5;241m=\u001b[39m\u001b[38;5;28mself\u001b[39m\u001b[38;5;241m.\u001b[39mshape, dtype\u001b[38;5;241m=\u001b[39mdata\u001b[38;5;241m.\u001b[39mdtype)\n",
      "\u001b[1;31mMemoryError\u001b[0m: Unable to allocate 256. MiB for an array with shape (67037558,) and data type int32"
     ]
    }
   ],
   "source": [
    "# Filter the data and perform some quality control checks\n",
    "adata = qc_and_filter(adata)"
   ]
  },
  {
   "cell_type": "code",
   "execution_count": null,
   "metadata": {},
   "outputs": [],
   "source": []
  }
 ],
 "metadata": {
  "kernelspec": {
   "display_name": "curate",
   "language": "python",
   "name": "python3"
  },
  "language_info": {
   "codemirror_mode": {
    "name": "ipython",
    "version": 3
   },
   "file_extension": ".py",
   "mimetype": "text/x-python",
   "name": "python",
   "nbconvert_exporter": "python",
   "pygments_lexer": "ipython3",
   "version": "3.9.19"
  }
 },
 "nbformat": 4,
 "nbformat_minor": 2
}
