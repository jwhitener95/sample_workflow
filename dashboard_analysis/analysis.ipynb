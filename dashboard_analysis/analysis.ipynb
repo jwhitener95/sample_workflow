{
 "cells": [
  {
   "cell_type": "markdown",
   "metadata": {},
   "source": [
    "### Use the results of the integration to perform an analysis"
   ]
  },
  {
   "cell_type": "code",
   "execution_count": null,
   "metadata": {},
   "outputs": [],
   "source": [
    "%load_ext autoreload\n",
    "%autoreload 2"
   ]
  },
  {
   "cell_type": "code",
   "execution_count": null,
   "metadata": {},
   "outputs": [],
   "source": [
    "import scanpy as sc\n",
    "import pandas as pd"
   ]
  },
  {
   "cell_type": "code",
   "execution_count": null,
   "metadata": {},
   "outputs": [],
   "source": [
    "ds_ids = ['DeZuani2024', 'Miller2023']\n",
    "adata = sc.read_h5ad('integration_' + '_'.join(ds_ids) + \".h5ad\")"
   ]
  },
  {
   "cell_type": "code",
   "execution_count": null,
   "metadata": {},
   "outputs": [],
   "source": [
    "# Visualize the results\n",
    "gene = 'CD8A'\n",
    "sc.pl.umap(adata, color=\"cell_type\", frameon=False, size=3, legend_fontsize='xx-small', legend_fontweight='light', legend_fontoutline=2)\n",
    "sc.pl.umap(adata, color=gene, frameon=False, size=3, legend_fontsize='xx-small', legend_fontweight='light', legend_fontoutline=2)"
   ]
  }
 ],
 "metadata": {
  "kernelspec": {
   "display_name": "curate2",
   "language": "python",
   "name": "python3"
  },
  "language_info": {
   "name": "python",
   "version": "3.9.19"
  }
 },
 "nbformat": 4,
 "nbformat_minor": 2
}
