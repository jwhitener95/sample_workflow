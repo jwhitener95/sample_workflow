{
 "cells": [
  {
   "cell_type": "code",
   "execution_count": null,
   "metadata": {},
   "outputs": [],
   "source": [
    "%load_ext autoreload\n",
    "%autoreload 2"
   ]
  },
  {
   "cell_type": "code",
   "execution_count": null,
   "metadata": {},
   "outputs": [],
   "source": [
    "import scanpy as sc\n",
    "import sys\n",
    "sys.path.insert(0, 'D:/GitHub/sample_workflow/')\n",
    "from HelperFunctions import qc_and_filter, \\\n",
    "                            label_cells, \\\n",
    "                            plot_clusters"
   ]
  },
  {
   "cell_type": "code",
   "execution_count": null,
   "metadata": {},
   "outputs": [],
   "source": [
    "# Dataset id\n",
    "ds_ids = ['DeZuani2024', 'Miller2023']\n",
    "\n",
    "# Read in the AnnData files\n",
    "adatas = []\n",
    "for ds_id in ds_ids:\n",
    "    base = f'D:/GitHub/Data/NSCLC/{ds_id}/'\n",
    "    adata_path = f'{base}{ds_id}_anndata_processed.h5ad'\n",
    "    adata = sc.read_h5ad(adata_path)\n",
    "    adatas += [adata]"
   ]
  },
  {
   "cell_type": "code",
   "execution_count": null,
   "metadata": {},
   "outputs": [],
   "source": []
  }
 ],
 "metadata": {
  "kernelspec": {
   "display_name": "curate",
   "language": "python",
   "name": "python3"
  },
  "language_info": {
   "name": "python",
   "version": "3.9.19"
  }
 },
 "nbformat": 4,
 "nbformat_minor": 2
}
